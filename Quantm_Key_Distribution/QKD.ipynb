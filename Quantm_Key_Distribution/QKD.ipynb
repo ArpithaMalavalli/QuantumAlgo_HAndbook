{
 "cells": [
  {
   "cell_type": "markdown",
   "metadata": {},
   "source": [
    "# The BB84 QKD protocol\n",
    "\n",
    "\n",
    "1. In the first step, Alice chooses two random bit strings, $k$ and $b$, that each consist of $n$ bits. Her bit string $k$ contains the actual bits she wants to encode (out of which the key will later be formed), while $b$ determines the bases in which she will encode her bits. For $b_i=0$ (i.e., if the $i^{th}$ bit is zero), she encodes the $i^{th}$ qubit in the standard $\\{|0\\rangle, |1\\rangle \\}$ basis, while for $b_i=1$, she encodes it in the $\\{|+\\rangle, |-\\rangle \\}$ basis, where $|+\\rangle:=\\frac{1}{\\sqrt{2}}(|0\\rangle +|1\\rangle)$, $|-\\rangle:=\\frac{1}{\\sqrt{2}}(|0\\rangle -|1\\rangle)$. This becomes more illustrative when representing each basis by two perpendicular arrows, where the two different bases are rotated by $45^\\circ$. The encoding of each qubit $q_i$ would therefore look like the following:\n",
    "\n",
    "<img align=\"center\" width=300 src=\"./QKD-images/encoding_Alice.png\">\n",
    "\n",
    "2. After encoding her $n$ qubits, Alice sends these qubits to Bob. Bob also chooses a random bit string $\\tilde{b}$ consisting of $n$ bits that determines in which bases he is going to perform measurements. He stores the outcomes of his measurements $\\tilde{k_i}$ together with the corresponding basis bits $\\tilde{b_i}$ in a table.\n",
    "\n",
    "3. Next, Alice and Bob compare their basis bits $b_i$ and $\\tilde{b}_i$. Whenever $b_i \\neq \\tilde{b}_i$, Bob measured in a different basis than Alice's qubit was encoded in, so he gets each outcome with probability $\\frac{1}{2}$. Alice and Bob therefore discard all key bits corresponding to these basis bits. If $b_i = \\tilde{b}_i$, however, they prepared and measured the qubit in the same basis, so (unless someone eavesdropped) Bob will get the key bit that Alice encoded, $\\tilde{k}_i = k_i$. These outcomes then compose the key.\n",
    "\n",
    "## An illustrated example\n",
    "Suppose Alice's random bit strings are $k=`0111001`$ and $b=`1101000`$ and Bob's random bit string is $\\tilde{b}=`1001101`$. Try to understand the other entries in the table below. Note that in the case where the basis bits are different, Bob has a 50% chance to get each outcome, so here one of them was chosen randomly.\n",
    "\n",
    "<img src=\"./QKD-images/example_bb84.png\" width=500 align=\"center\">\n",
    "\n",
    "The key produced in this example would be '0110'. To make sure that the key is secret and correct, Alice and Bob would \"sacrifice\" some of their key bits to check that no one eavesdropped. If someone had measured a qubit on the way, this could have changed the state of that qubit and with probability $\\frac{1}{4}$, Bob's and Alice's key bits will be different. By checking $m$ bits, the probability to not notice an eavesdropper decreases as $\\left(\\frac{3}{4}\\right)^m$. Thus, if they check enough bits and they are all the same, they can assume that no one eavesdropped and their key is secret. However, to keep things simple, we will not perfom these tests in this excercise. Instead, all bits of the key will be used.\n",
    "\n",
    "### Message encrpytion\n",
    "Once a secret key is distributed, Alice can encrypt her message by using the so-called one-time pad technique: she simply adds the key bits on top of her secret message bits that she wants to send. Using the example above, her key is $\\text{key}=`0110`$. If her secret message bit string is $m=`1100`$, the encrypted message will be $c=m\\oplus \\text{key} = `1010`$. Bob can then decrypt the message by adding his key on that encrypted message, $m=c\\oplus \\text{key}$."
   ]
  },
  {
   "cell_type": "code",
   "execution_count": 1,
   "metadata": {
    "scrolled": true
   },
   "outputs": [
    {
     "ename": "ModuleNotFoundError",
     "evalue": "No module named 'qiskit'",
     "output_type": "error",
     "traceback": [
      "\u001b[0;31m---------------------------------------------------------------------------\u001b[0m",
      "\u001b[0;31mModuleNotFoundError\u001b[0m                       Traceback (most recent call last)",
      "\u001b[0;32m<ipython-input-1-3bbdee5225f9>\u001b[0m in \u001b[0;36m<module>\u001b[0;34m\u001b[0m\n\u001b[1;32m      1\u001b[0m \u001b[0;32mimport\u001b[0m \u001b[0mrandom\u001b[0m\u001b[0;34m\u001b[0m\u001b[0;34m\u001b[0m\u001b[0m\n\u001b[0;32m----> 2\u001b[0;31m \u001b[0;32mfrom\u001b[0m \u001b[0mqiskit\u001b[0m \u001b[0;32mimport\u001b[0m \u001b[0;34m*\u001b[0m\u001b[0;34m\u001b[0m\u001b[0;34m\u001b[0m\u001b[0m\n\u001b[0m\u001b[1;32m      3\u001b[0m \u001b[0;32mfrom\u001b[0m \u001b[0mAlice\u001b[0m \u001b[0;32mimport\u001b[0m \u001b[0;34m*\u001b[0m\u001b[0;34m\u001b[0m\u001b[0;34m\u001b[0m\u001b[0m\n\u001b[1;32m      4\u001b[0m \u001b[0;32mfrom\u001b[0m \u001b[0mBob\u001b[0m \u001b[0;32mimport\u001b[0m \u001b[0;34m*\u001b[0m\u001b[0;34m\u001b[0m\u001b[0;34m\u001b[0m\u001b[0m\n\u001b[1;32m      5\u001b[0m \u001b[0;32mfrom\u001b[0m \u001b[0mresources\u001b[0m\u001b[0;34m.\u001b[0m\u001b[0mteams\u001b[0m \u001b[0;32mimport\u001b[0m \u001b[0;34m*\u001b[0m\u001b[0;34m\u001b[0m\u001b[0;34m\u001b[0m\u001b[0m\n",
      "\u001b[0;31mModuleNotFoundError\u001b[0m: No module named 'qiskit'"
     ]
    }
   ],
   "source": [
    "import random\n",
    "from qiskit import *\n",
    "from Alice import *\n",
    "from Bob import *\n",
    "from resources.teams import *\n",
    "%matplotlib inline"
   ]
  },
  {
   "cell_type": "markdown",
   "metadata": {},
   "source": [
    "## Step-1 & 2: Alice prepares the qubits and transmits. Bob measures the qubits."
   ]
  },
  {
   "cell_type": "code",
   "execution_count": 66,
   "metadata": {},
   "outputs": [],
   "source": [
    "from qiskit import QuantumCircuit\n",
    "import random\n",
    "\n",
    "random.seed(84) # DO NOT CHNAGE THIS SEED VALUE\n",
    "\n",
    "alice_key = '11100100010001001001001000001111111110100100100100010010010001010100010100100100101011111110001010100010010001001010010010110010'\n",
    "\n",
    "alice_bases = '11000110011000100001100101110000111010011001111111110100010111010100000100011001101010100001010010101011010001011001110011111111'\n",
    "\n",
    "def alice_prepare_qubit(qubit_index):\n",
    "    ## WRITE YOUR CODE HERE\n",
    "    qc=QuantumCircuit(1,1)\n",
    "    if alice_bases[qubit_index]==0:\n",
    "        if alice_key==0:\n",
    "            pass\n",
    "        else:\n",
    "            qc.x(0)\n",
    "    else:\n",
    "        \n",
    "        if alice_bases[qubit_index]==0:\n",
    "            qc.h(0)\n",
    "        else:\n",
    "            qc.x(0)\n",
    "            qc.h(0)\n",
    "                      \n",
    "    return qc\n",
    "           \n",
    "    ## WRITE YOUR CODE HERE"
   ]
  },
  {
   "cell_type": "code",
   "execution_count": 74,
   "metadata": {},
   "outputs": [],
   "source": [
    "def bob_measure_qubit(bob_bases, qubit_index, qubit_circuit):\n",
    "    ## WRITE YOUR CODE HERE\n",
    "    \n",
    "    if bob_bases[qubit_index]==0: # Z basis\n",
    "        qubit_circuit.measure(0,0)\n",
    "    else: #X basis so change first and measure\n",
    "        qubit_circuit.h(0)\n",
    "        qubit_circuit.measure(0,0)\n",
    "    \n",
    "        \n",
    "    ## WRITE YOUR CODE HERE"
   ]
  },
  {
   "cell_type": "code",
   "execution_count": 75,
   "metadata": {},
   "outputs": [
    {
     "name": "stdout",
     "output_type": "stream",
     "text": [
      "Bob's bases: 11000110011000000001100101110000111010011111111111110100000111010100100010011001001110100001010010111011010001011001111111011111\n",
      "Bob's bits: 11111111111111111111111111111111111111111111111111111111111111111111111111111111111111111111111111111111111111111111111111111111\n"
     ]
    }
   ],
   "source": [
    "# Seeding a constant value to get uniform key accross all the teams\n",
    "random.seed(84) # DO NOT CHNAGE THIS SEED IF YOU WANT TO COMPLETE THIS TASK XD\n",
    "\n",
    "num_qubits = 130\n",
    "bob_bases = str('{0:0100b}'.format(random.getrandbits(num_qubits)))\n",
    "\n",
    "def bb84():\n",
    "    print(\"Bob's bases:\", bob_bases)\n",
    "    \n",
    "    all_qubit_circuits = []\n",
    "\n",
    "    # now Alice sends her bits one by one\n",
    "    for qubit_index in range(num_qubits-2):\n",
    "\n",
    "        # Here Alice prepares the qubit\n",
    "        ## WRITE YOUR CODE HERE\n",
    "        this_qubit_circuit = alice_prepare_qubit(qubit_index)\n",
    "        ## WRITE YOUR CODE HERE\n",
    "\n",
    "        # Here Bob measures the Alice's qubit (Call the function for Bob to measure the qubits)\n",
    "        ## WRITE YOUR CODE HERE\n",
    "        bob_measure_qubit(bob_bases, qubit_index, this_qubit_circuit)\n",
    "        ## WRITE YOUR CODE HERE\n",
    "\n",
    "        # We collect all these qubits and put them in an array\n",
    "        all_qubit_circuits.append(this_qubit_circuit)\n",
    "\n",
    "    # Now execute all the circuits\n",
    "    \n",
    "    sim = Aer.get_backend('qasm_simulator')\n",
    "    results = execute(all_qubit_circuits, backend=sim, shots=1).result()\n",
    " \n",
    "    #And combine the results\n",
    "    bits = ''\n",
    "    for qubit_index in range(num_qubits-2):\n",
    "        bits += [measurement for measurement in results.get_counts(qubit_index)][0]\n",
    "\n",
    "    return bits\n",
    "    \n",
    "bits = bb84()\n",
    "print(\"Bob's bits:\", bits)"
   ]
  },
  {
   "cell_type": "markdown",
   "metadata": {},
   "source": [
    "## Step-3: Create the shared key"
   ]
  },
  {
   "cell_type": "markdown",
   "metadata": {},
   "source": [
    "The bases chosen by Alice are stored in the variable`alice_bases` in the file `Alice.py`. Use that information to now. compare the Alice's and Bob's bases to make the secret key!"
   ]
  },
  {
   "cell_type": "code",
   "execution_count": 35,
   "metadata": {},
   "outputs": [
    {
     "name": "stdout",
     "output_type": "stream",
     "text": [
      "Alice's bases: 11000110011000100001100101110000111010011001111111110100010111010100000100011001101010100001010010101011010001011001110011111111\n",
      "Bob's bases: 11000110011000000001100101110000111010011111111111110100000111010100100010011001001110100001010010111011010001011001111111011111\n",
      "Shared key: 1111111111111111111111111111111111111111111111111111111111111111111111111111111111111111111111111111111111111111111\n"
     ]
    }
   ],
   "source": [
    "print(\"Alice's bases:\", alice_bases)\n",
    "print(\"Bob's bases:\", bob_bases)\n",
    "\n",
    "def create_shared_key(alice_bases, bob_bases, bits):\n",
    "    final_key = ''\n",
    "    # Compare Alice and Bob's bases bits and generate the key by comparing if they're equal or not\n",
    "    ## WRITE YOUR CODE HERE\n",
    "    for q in range(len(bits)):\n",
    "        if(alice_bases[q]==bob_bases[q]):\n",
    "            final_key+=bits[q]\n",
    "    ## WRITE YOUR CODE HERE\n",
    "    return final_key\n",
    "    \n",
    "key = create_shared_key(alice_bases, bob_bases, bits)\n",
    "print(\"Shared key:\", key)"
   ]
  },
  {
   "cell_type": "markdown",
   "metadata": {},
   "source": [
    "## Step-4: Transmit the message from Alice to Bob"
   ]
  },
  {
   "cell_type": "code",
   "execution_count": 89,
   "metadata": {},
   "outputs": [
    {
     "name": "stdout",
     "output_type": "stream",
     "text": [
      "0010010110100101101101001100111010010010011001001001100101010111001001011010100110010100100110101011001010010100100\n"
     ]
    }
   ],
   "source": [
    "plaintext_msg = '1101101001011010010010110011000101101101100110110110011010101000110110100101011001101011011001010100110101101011011'\n",
    "\n",
    "def alice_send_message(message, key):\n",
    "    # Generate ciphertext using the plaintext_msg and key and performing the EXOR operation\n",
    "    ## WRITE YOUR CODE HERE\n",
    "    ciphertext = ''\n",
    "    for i in range(len(message)):\n",
    "        ciphertext  = ciphertext+ str(int(message[i]) ^ int(key[i]))\n",
    "    ## WRITE YOUR CODE HERE\n",
    "    \n",
    "    return ciphertext\n",
    "    \n",
    "sent_msg = alice_send_message(plaintext_msg, key)\n",
    "print(sent_msg)"
   ]
  },
  {
   "cell_type": "markdown",
   "metadata": {},
   "source": [
    "## Step-5: Bob receives and decodes Alice's message"
   ]
  },
  {
   "cell_type": "code",
   "execution_count": 90,
   "metadata": {
    "scrolled": true
   },
   "outputs": [
    {
     "name": "stdout",
     "output_type": "stream",
     "text": [
      "1101101001011010010010110011000101101101100110110110011010101000110110100101011001101011011001010100110101101011011\n"
     ]
    }
   ],
   "source": [
    "def bob_decrypt_message(ciphertext, key):\n",
    "    # get back plaintext using the sent_msg and key and performing the EXOR operation\n",
    "    ## WRITE YOUR CODE HERE\n",
    "    plaintext = ''\n",
    "    for i in range(len(ciphertext)):\n",
    "        plaintext = plaintext + str(int(ciphertext[i]) ^ int(key[i]))\n",
    "    ## WRITE YOUR CODE HERE\n",
    "    \n",
    "    return plaintext\n",
    "\n",
    "received_msg = bob_decrypt_message(sent_msg, key)\n",
    "print(received_msg)"
   ]
  },
  {
   "cell_type": "markdown",
   "metadata": {},
   "source": [
    "## Step-6: Additional Twist: Convert the received message from Binary encoded Morse code to ASCII text"
   ]
  },
  {
   "cell_type": "code",
   "execution_count": 94,
   "metadata": {},
   "outputs": [
    {
     "name": "stdout",
     "output_type": "stream",
     "text": [
      "The message is:  great job guys!\n"
     ]
    }
   ],
   "source": [
    "# Use the below dictionary to decode the message that is encoded as morse code in binary.\n",
    "MORSE_CODE_DICT = { 'a':'.-', 'b':'-...', \n",
    "                    'c':'-.-.', 'd':'-..', 'e':'.', \n",
    "                    'f':'..-.', 'g':'--.', 'h':'....', \n",
    "                    'i':'..', 'j':'.---', 'k':'-.-', \n",
    "                    'l':'.-..', 'm':'--', 'n':'-.', \n",
    "                    'o':'---', 'p':'.--.', 'q':'--.-', \n",
    "                    'r':'.-.', 's':'...', 't':'-', \n",
    "                    'u':'..-', 'v':'...-', 'w':'.--', \n",
    "                    'x':'-..-', 'y':'-.--', 'z':'--..', \n",
    "                    '1':'.----', '2':'..---', '3':'...--', \n",
    "                    '4':'....-', '5':'.....', '6':'-....', \n",
    "                    '7':'--...', '8':'---..', '9':'----.', \n",
    "                    '0':'-----', ', ':'--..--', '.':'.-.-.-', \n",
    "                    '?':'..--..', '/':'-..-.', '-':'-....-', \n",
    "                    '(':'-.--.', ')':'-.--.-', '!':'-.-.--'}\n",
    "\n",
    "INV_MORSE = { v.replace('.', '10').replace('-', '110').strip('0'): k for k, v in MORSE_CODE_DICT.items()}\n",
    "def convert_to_ascii_chars(received_msg):\n",
    "    ## WRITE YOUR CODE HERE\n",
    "    wordlist=received_msg.split('000')\n",
    "    sentence=''\n",
    "    for words in wordlist:\n",
    "        word=''\n",
    "        letters=words.split('00')\n",
    "        for letter in letters:\n",
    "            word=word+INV_MORSE[letter]\n",
    "        sentence=sentence+\" \"+ word\n",
    "    ascii_msg = sentence\n",
    "    ## WRITE YOUR CODE HERE\n",
    "    return ascii_msg\n",
    "\n",
    "original_message = convert_to_ascii_chars(received_msg)\n",
    "print('The message is:', original_message)"
   ]
  },
  {
   "cell_type": "code",
   "execution_count": null,
   "metadata": {},
   "outputs": [],
   "source": []
  }
 ],
 "metadata": {
  "kernelspec": {
   "display_name": "Python 3",
   "language": "python",
   "name": "python3"
  },
  "language_info": {
   "codemirror_mode": {
    "name": "ipython",
    "version": 3
   },
   "file_extension": ".py",
   "mimetype": "text/x-python",
   "name": "python",
   "nbconvert_exporter": "python",
   "pygments_lexer": "ipython3",
   "version": "3.7.7"
  }
 },
 "nbformat": 4,
 "nbformat_minor": 4
}
